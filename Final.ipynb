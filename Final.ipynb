{
 "cells": [
  {
   "cell_type": "code",
   "execution_count": 4,
   "metadata": {},
   "outputs": [],
   "source": [
    "\n",
    "class RandomForestModel:\n",
    "    def __init__(self):\n",
    "        self.model = RandomForestRegressor()\n",
    "    \n",
    "    def fit(self, X, y):\n",
    "        self.model.fit(X, y)\n",
    "    \n",
    "    def predict(self, X):\n",
    "        return self.model.predict(X)\n",
    "    \n",
    "    def evaluate(self, X, y):\n",
    "        y_pred = self.predict(X)\n",
    "        mse = mean_squared_error(y, y_pred)\n",
    "        r2 = r2_score(y, y_pred)\n",
    "        return mse, r2"
   ]
  },
  {
   "cell_type": "code",
   "execution_count": null,
   "metadata": {},
   "outputs": [],
   "source": [
    "import pickle\n",
    "\n",
    "with open('sales_model.pkl', 'rb') as file:\n",
    "    sales_model = pickle.load(file)\n"
   ]
  },
  {
   "cell_type": "code",
   "execution_count": 6,
   "metadata": {},
   "outputs": [
    {
     "ename": "TypeError",
     "evalue": "The passed model is not callable and cannot be analyzed directly with the given masker! Model: ['Quantity' 'Discount' 'Profit' 'Month' 'Ship Mode_First Class'\n 'Ship Mode_Same Day' 'Ship Mode_Second Class' 'Ship Mode_Standard Class'\n 'Segment_Consumer' 'Segment_Corporate' 'Segment_Home Office'\n 'Region_Central' 'Region_East' 'Region_South' 'Region_West'\n 'Sub-Category_Bookcases' 'Sub-Category_Chairs' 'Sub-Category_Furnishings'\n 'Sub-Category_Tables' 'Quarter_1' 'Quarter_2' 'Quarter_3' 'Quarter_4']",
     "output_type": "error",
     "traceback": [
      "\u001b[0;31m---------------------------------------------------------------------------\u001b[0m",
      "\u001b[0;31mTypeError\u001b[0m                                 Traceback (most recent call last)",
      "Cell \u001b[0;32mIn[6], line 3\u001b[0m\n\u001b[1;32m      1\u001b[0m \u001b[38;5;28;01mimport\u001b[39;00m \u001b[38;5;21;01mshap\u001b[39;00m \n\u001b[0;32m----> 3\u001b[0m explainer \u001b[38;5;241m=\u001b[39m \u001b[43mshap\u001b[49m\u001b[38;5;241;43m.\u001b[39;49m\u001b[43mExplainer\u001b[49m\u001b[43m(\u001b[49m\u001b[43msales_model\u001b[49m\u001b[43m)\u001b[49m\n\u001b[1;32m      4\u001b[0m shap_values \u001b[38;5;241m=\u001b[39m explainer(sales_model)\n\u001b[1;32m      5\u001b[0m shap\u001b[38;5;241m.\u001b[39msummary_plot(shap_values, sales_model)\n",
      "File \u001b[0;32m~/.julia/conda/3/lib/python3.10/site-packages/shap/explainers/_explainer.py:174\u001b[0m, in \u001b[0;36mExplainer.__init__\u001b[0;34m(self, model, masker, link, algorithm, output_names, feature_names, linearize_link, seed, **kwargs)\u001b[0m\n\u001b[1;32m    170\u001b[0m             algorithm \u001b[38;5;241m=\u001b[39m \u001b[38;5;124m\"\u001b[39m\u001b[38;5;124mpermutation\u001b[39m\u001b[38;5;124m\"\u001b[39m\n\u001b[1;32m    172\u001b[0m     \u001b[38;5;66;03m# if we get here then we don't know how to handle what was given to us\u001b[39;00m\n\u001b[1;32m    173\u001b[0m     \u001b[38;5;28;01melse\u001b[39;00m:\n\u001b[0;32m--> 174\u001b[0m         \u001b[38;5;28;01mraise\u001b[39;00m \u001b[38;5;167;01mTypeError\u001b[39;00m(\u001b[38;5;124m\"\u001b[39m\u001b[38;5;124mThe passed model is not callable and cannot be analyzed directly with the given masker! Model: \u001b[39m\u001b[38;5;124m\"\u001b[39m \u001b[38;5;241m+\u001b[39m \u001b[38;5;28mstr\u001b[39m(model))\n\u001b[1;32m    176\u001b[0m \u001b[38;5;66;03m# build the right subclass\u001b[39;00m\n\u001b[1;32m    177\u001b[0m \u001b[38;5;28;01mif\u001b[39;00m algorithm \u001b[38;5;241m==\u001b[39m \u001b[38;5;124m\"\u001b[39m\u001b[38;5;124mexact\u001b[39m\u001b[38;5;124m\"\u001b[39m:\n",
      "\u001b[0;31mTypeError\u001b[0m: The passed model is not callable and cannot be analyzed directly with the given masker! Model: ['Quantity' 'Discount' 'Profit' 'Month' 'Ship Mode_First Class'\n 'Ship Mode_Same Day' 'Ship Mode_Second Class' 'Ship Mode_Standard Class'\n 'Segment_Consumer' 'Segment_Corporate' 'Segment_Home Office'\n 'Region_Central' 'Region_East' 'Region_South' 'Region_West'\n 'Sub-Category_Bookcases' 'Sub-Category_Chairs' 'Sub-Category_Furnishings'\n 'Sub-Category_Tables' 'Quarter_1' 'Quarter_2' 'Quarter_3' 'Quarter_4']"
     ]
    }
   ],
   "source": [
    "import shap \n",
    "\n",
    "explainer = shap.Explainer(sales_model)\n",
    "shap_values = explainer(sales_model)\n",
    "shap.summary_plot(shap_values, sales_model)"
   ]
  }
 ],
 "metadata": {
  "kernelspec": {
   "display_name": "base",
   "language": "python",
   "name": "python3"
  },
  "language_info": {
   "codemirror_mode": {
    "name": "ipython",
    "version": 3
   },
   "file_extension": ".py",
   "mimetype": "text/x-python",
   "name": "python",
   "nbconvert_exporter": "python",
   "pygments_lexer": "ipython3",
   "version": "3.10.6"
  }
 },
 "nbformat": 4,
 "nbformat_minor": 2
}
